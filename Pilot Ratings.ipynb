{
 "cells": [
  {
   "cell_type": "markdown",
   "metadata": {},
   "source": [
    "# Pilot Ratings Analysis\n",
    "\n",
    "## Introduction\n",
    "\n",
    "This notebook aims to help analyze ratings data from the Moth pilot study, with the goal of selecting stimuli for inclusion in the primary study.\n",
    "\n",
    "## Setup\n",
    "\n",
    "1. Follow the directions from the [README](README.ipynb)\n",
    "2. Serialize the current ratings data to a CSV file:"
   ]
  },
  {
   "cell_type": "code",
   "execution_count": null,
   "metadata": {},
   "outputs": [],
   "source": [
    "! python -m pilot.serialize --ratings backups/pilot_ratings.csv"
   ]
  },
  {
   "cell_type": "markdown",
   "metadata": {},
   "source": [
    "## Preprocessing\n",
    "\n",
    "Crunch the data into a useful format (this can take a few minutes)."
   ]
  },
  {
   "cell_type": "code",
   "execution_count": null,
   "metadata": {},
   "outputs": [],
   "source": [
    "import pandas as pd\n",
    "import json\n",
    "import math\n",
    "import datetime\n",
    "import emotioncf\n",
    "import matplotlib.pyplot as plt\n",
    "import matplotlib.colors\n",
    "\n",
    "% matplotlib inline"
   ]
  },
  {
   "cell_type": "code",
   "execution_count": null,
   "metadata": {},
   "outputs": [],
   "source": [
    "# Load data from the CSV created above and parse JSON\n",
    "inputFrame = pd.read_csv(\"backups/pilot_ratings.csv\").set_index(\"RateID\")\n",
    "parsedRatings = inputFrame[\"Ratings\"].apply(lambda row: pd.to_numeric(pd.Series((json.loads(row)))))\n",
    "parsedRatings.replace(-1, 0, inplace = True)\n",
    "masterFrame = pd.concat([inputFrame, parsedRatings], axis = 1)"
   ]
  },
  {
   "cell_type": "code",
   "execution_count": null,
   "metadata": {},
   "outputs": [],
   "source": [
    "# Grab stimuli names for lookup later\n",
    "stimuli = masterFrame[[\"StimID\", \"StimName\"]].set_index(\"StimID\").drop_duplicates()"
   ]
  },
  {
   "cell_type": "code",
   "execution_count": null,
   "metadata": {},
   "outputs": [],
   "source": [
    "# Strip anything we don't need and start to organize\n",
    "simplified = masterFrame.reset_index().drop(columns = [\"ParticipantID\", \"StimName\", \"SliceStartSec\", \"ReactionTime\", \"Ratings\", \"RateID\"])\n",
    "simplified.set_index([\"StimID\", \"SeshID\", \"PollSec\"], inplace = True)"
   ]
  },
  {
   "cell_type": "code",
   "execution_count": null,
   "metadata": {},
   "outputs": [],
   "source": [
    "# Crunch everything into the format we want.\n",
    "# This format is:  - Hierachical Index: StimID > Emotion > SeshID\n",
    "#                  - Columns: Each timestamp used anywhere in the data\n",
    "#                  - Values: Actual ratings\n",
    "#                    (most will be NaN b/c only a small subset of all timestamps are used in a given session)\n",
    "reshaped = simplified.stack().to_frame()\n",
    "reshaped.index.names = (reshaped.index.names[:3]) + [\"Emotion\"]\n",
    "reshaped.set_axis([\"Rating\"], axis = \"columns\", inplace = True)\n",
    "# reshaped = reshaped.unstack(2)\n",
    "reshaped.reset_index(inplace = True)\n",
    "reshaped.sort_values(by = [\"StimID\", \"Emotion\", \"SeshID\"], inplace = True)\n",
    "reshaped.set_index([\"StimID\", \"Emotion\", \"SeshID\"], inplace = True)"
   ]
  },
  {
   "cell_type": "markdown",
   "metadata": {},
   "source": [
    "## Computation"
   ]
  },
  {
   "cell_type": "code",
   "execution_count": null,
   "metadata": {},
   "outputs": [],
   "source": [
    "# Try a few different dilation values\n",
    "dilations = [15, 30, 45, 60]\n",
    "# Store cf objects for later\n",
    "collabs = {}"
   ]
  },
  {
   "cell_type": "code",
   "execution_count": null,
   "metadata": {
    "scrolled": true
   },
   "outputs": [],
   "source": [
    "# Iterate through stimuli > emotions > dilations and build cf objects\n",
    "stimGrouped = reshaped.reset_index().groupby(\"StimID\", sort = False)\n",
    "for stim, stimGroup in stimGrouped:\n",
    "    # Get rid of any columns with no data for this stim\n",
    "    # (no point doing this on the emotion level b/c all emotions are sampled at the same time w/in a session)\n",
    "    prunedStimGroup = stimGroup.dropna(how = \"all\", axis = \"columns\")\n",
    "    emotionGrouped = prunedStimGroup.groupby(\"Emotion\", sort = False)\n",
    "    for emotion, emotionGroup in emotionGrouped:\n",
    "        # Final cleanup of the data now that we only have one stim > emotion\n",
    "        data = emotionGroup.drop([\"StimID\", \"Emotion\"], axis = 1)\n",
    "        # Rename for emotionCF and create a matrix\n",
    "        data.set_axis([\"Subject\", \"Item\", \"Rating\"], axis = \"columns\", inplace = True)\n",
    "#         print len(data.Subject.unique())\n",
    "        matrix = emotioncf.data.create_sub_by_item_matrix(data)\n",
    "        for dilation in dilations:\n",
    "            try: # Don't stop when occasional 'cannot broadcast result' errors are hit\n",
    "                # Build/fit/run/store a cf object\n",
    "                cf = emotioncf.cf.NNMF_multiplicative(matrix)\n",
    "                cf.fit(dilate_ts_n_samples = dilation)\n",
    "                cf.predict()\n",
    "                collabs.setdefault(stim, {}).setdefault(emotion, {})[dilation] = cf\n",
    "                # If >0 ratings were predicted, save a plot\n",
    "#                 if cf.predicted_ratings.dropna().shape[0] > 0:\n",
    "#                     cf.plot_predictions()[0].savefig(\"pr_figs/Stim%i_%s@%i.png\" % (stim, emotion, dilation))\n",
    "#                     plt.clf()\n",
    "            except Exception as error:\n",
    "                print \"The following error occured for stim %i's emotion %s @ dilation %i: %s\" % (stim, emotion, dilation, error)"
   ]
  },
  {
   "cell_type": "markdown",
   "metadata": {},
   "source": [
    "## Visualization"
   ]
  },
  {
   "cell_type": "code",
   "execution_count": null,
   "metadata": {},
   "outputs": [],
   "source": [
    "binLength = 15 # For plotting, downsample to bins of this length\n",
    "minMean = 20 # Only plot emotions with means of at least this, OR...\n",
    "minPeak = 50 # ... peaks of at least this\n",
    "emotionColors = {\"Anger\": \"red\",                   # Map emotions to colors \n",
    "                 \"Contempt\": \"maroon\",\n",
    "                 \"Disgust\": \"olive\",\n",
    "                 \"Elation\": \"magenta\",\n",
    "                 \"Envy\": \"seagreen\",\n",
    "                 \"Fear\": \"palegoldenrod\",\n",
    "                 \"Guilt\": \"darkorange\",\n",
    "                 \"Hope\": \"gold\",\n",
    "                 \"Interest\": \"dimgray\",\n",
    "                 \"Joy\": \"darkorchid\",\n",
    "                 \"Pride\": \"lightsteelblue\",\n",
    "                 \"Relief\": \"skyblue\",\n",
    "                 \"Sadness\": \"navy\",\n",
    "                 \"Satisfaction\": \"cornflowerblue\",\n",
    "                 \"Shame\": \"greenyellow\",\n",
    "                 \"Surprise\": \"lightblue\"}\n",
    "\n",
    "# All of this ignores dilations, just using the first one\n",
    "for stim, emotions in collabs.iteritems():\n",
    "    stimName = stimuli.loc[stim].StimName\n",
    "    # Pick any emotion to count participants (all should have the same)\n",
    "    numParticipants = emotions[emotions.keys()[0]][dilations[0]].ratings.shape[0]\n",
    "    avgs = {}\n",
    "    for emotion, cfs in emotions.iteritems():\n",
    "        # Downsample and clean up indices\n",
    "        crunched = cfs[dilations[0]].ratings.T\n",
    "        crunched.index = pd.to_datetime(crunched.index, unit = \"s\")\n",
    "        crunched = crunched.resample(\"%iS\" % binLength).mean().T\n",
    "        crunched.rename(columns = lambda x: x.minute * 60 + x.second, inplace = True)\n",
    "        # Flatten down to averages\n",
    "        avgs[emotion] = (crunched.mean(axis = 0))\n",
    "    \n",
    "    # Load average emotions into pandas and prune away boring ones based on critera at top\n",
    "    avgs = pd.DataFrame(avgs)\n",
    "    pruned = avgs[avgs.columns[(avgs.max() >= minPeak) | (avgs.mean() >= minMean)]]\n",
    "    # Choose the subset of colors needed based on which emotions were pruned\n",
    "    colors = [emotionColors[emotion] for emotion in list(pruned.columns)]\n",
    "    colorMap = matplotlib.colors.ListedColormap(colors = colors)\n",
    "    # On x axis, put tick marks at every point\n",
    "    xticks = list(pruned.index)\n",
    "    # But, only label every other tick mark for short videos or every 4th tick mark for long ones\n",
    "    # And label using MM:SS notation instead of raw number of seconds\n",
    "    xlabels = []\n",
    "    thisLength = pruned.index.max()\n",
    "    for tick in xticks:\n",
    "        if tick % ((binLength * 2) if thisLength <= 10 * 60 else (binLength * 4)) == 0:\n",
    "            time = datetime.time(minute = int(math.floor(tick / 60)), second = tick % 60)\n",
    "            xlabels.append(time.strftime(\"%M:%S\"))\n",
    "        else:\n",
    "            xlabels.append(\"\")\n",
    "    # Draw the plot and make it pretty\n",
    "    figTitle = \"Stim %i: '%s'\\nRaw @ %is\" % (stim, stimName, binLength)\n",
    "    fig = plt.figure()\n",
    "    pruned.plot(figsize = (20, 5), ylim = (0, 100), xlim = (0, thisLength), ax = fig.gca(), colormap = colorMap)\n",
    "    fig.gca().set_xlabel(\"\")\n",
    "    plt.legend(loc = \"upper center\", bbox_to_anchor = (0.5, -0.15), ncol = 8, fontsize = \"large\")\n",
    "    plt.suptitle(figTitle, fontsize = 18, y = 1.02)\n",
    "    plt.xticks(xticks, xlabels)\n",
    "    plt.text(6, 94, \"n = %i\" % numParticipants , horizontalalignment = \"left\", verticalalignment = \"top\", fontdict = {\"size\": \"large\"});\n",
    "    # Save the plot\n",
    "    plt.savefig(\"pr_emotion_means/Stim%i_Raw_@%i.png\" % (stim, binLength), bbox_inches = \"tight\")\n",
    "    plt.clf()\n",
    "    "
   ]
  }
 ],
 "metadata": {
  "kernelspec": {
   "display_name": "Python 2",
   "language": "python",
   "name": "python2"
  },
  "language_info": {
   "codemirror_mode": {
    "name": "ipython",
    "version": 2
   },
   "file_extension": ".py",
   "mimetype": "text/x-python",
   "name": "python",
   "nbconvert_exporter": "python",
   "pygments_lexer": "ipython2",
   "version": "2.7.13"
  }
 },
 "nbformat": 4,
 "nbformat_minor": 2
}
