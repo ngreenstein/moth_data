{
 "cells": [
  {
   "cell_type": "markdown",
   "metadata": {},
   "source": [
    "# Pilot Ratings Analysis\n",
    "\n",
    "## Introduction\n",
    "\n",
    "This notebook aims to help analyze ratings data from the Moth pilot study, with the goal of selecting stimuli for inclusion in the primary study.\n",
    "\n",
    "## Setup\n",
    "\n",
    "1. Follow the directions from the [README](README.ipynb)\n",
    "2. Serialize the current ratings data to a CSV file:"
   ]
  },
  {
   "cell_type": "code",
   "execution_count": null,
   "metadata": {},
   "outputs": [],
   "source": [
    "! python -m pilot.serialize --ratings backups/pilot_ratings.csv"
   ]
  },
  {
   "cell_type": "markdown",
   "metadata": {},
   "source": [
    "## Preprocessing\n",
    "\n",
    "Crunch the data into a useful format (this can take a few minutes)."
   ]
  },
  {
   "cell_type": "code",
   "execution_count": null,
   "metadata": {},
   "outputs": [],
   "source": [
    "import pandas as pd\n",
    "import json\n",
    "import emotioncf\n",
    "import matplotlib.pyplot as plt\n",
    "\n",
    "% matplotlib inline"
   ]
  },
  {
   "cell_type": "code",
   "execution_count": null,
   "metadata": {},
   "outputs": [],
   "source": [
    "# Load data from the CSV created above and parse JSON\n",
    "inputFrame = pd.read_csv(\"backups/pilot_ratings.csv\").set_index(\"RateID\")\n",
    "parsedRatings = inputFrame[\"Ratings\"].apply(lambda row: pd.to_numeric(pd.Series((json.loads(row)))))\n",
    "parsedRatings.replace(-1, 0, inplace = True)\n",
    "masterFrame = pd.concat([inputFrame, parsedRatings], axis = 1)"
   ]
  },
  {
   "cell_type": "code",
   "execution_count": null,
   "metadata": {},
   "outputs": [],
   "source": [
    "# Grab stimuli names for lookup later\n",
    "stimuli = masterFrame[[\"StimID\", \"StimName\"]].set_index(\"StimID\").drop_duplicates()"
   ]
  },
  {
   "cell_type": "code",
   "execution_count": null,
   "metadata": {},
   "outputs": [],
   "source": [
    "# Strip anything we don't need and start to organize\n",
    "simplified = masterFrame.reset_index().drop(columns = [\"ParticipantID\", \"StimName\", \"SliceStartSec\", \"ReactionTime\", \"Ratings\", \"RateID\"])\n",
    "simplified.set_index([\"StimID\", \"SeshID\", \"PollSec\"], inplace = True)"
   ]
  },
  {
   "cell_type": "code",
   "execution_count": null,
   "metadata": {},
   "outputs": [],
   "source": [
    "# Crunch everything into the format we want.\n",
    "# This format is:  - Hierachical Index: StimID > Emotion > SeshID\n",
    "#                  - Columns: Each timestamp used anywhere in the data\n",
    "#                  - Values: Actual ratings\n",
    "#                    (most will be NaN b/c only a small subset of all timestamps are used in a given session)\n",
    "reshaped = simplified.stack().to_frame()\n",
    "reshaped.index.names = (reshaped.index.names[:3]) + [\"Emotion\"]\n",
    "reshaped.set_axis([\"Rating\"], axis = \"columns\", inplace = True)\n",
    "# reshaped = reshaped.unstack(2)\n",
    "reshaped.reset_index(inplace = True)\n",
    "reshaped.sort_values(by = [\"StimID\", \"Emotion\", \"SeshID\"], inplace = True)\n",
    "reshaped.set_index([\"StimID\", \"Emotion\", \"SeshID\"], inplace = True)"
   ]
  },
  {
   "cell_type": "markdown",
   "metadata": {},
   "source": [
    "## Computation"
   ]
  },
  {
   "cell_type": "code",
   "execution_count": null,
   "metadata": {},
   "outputs": [],
   "source": [
    "# Try a few different dilation values\n",
    "dilations = [15, 30, 45, 60]\n",
    "# Store cf objects for later\n",
    "collabs = {}"
   ]
  },
  {
   "cell_type": "code",
   "execution_count": null,
   "metadata": {
    "scrolled": true
   },
   "outputs": [],
   "source": [
    "# Iterate through stimuli > emotions > dilations and build cf objects\n",
    "stimGrouped = reshaped.reset_index().groupby(\"StimID\", sort = False)\n",
    "for stim, stimGroup in stimGrouped:\n",
    "    # Get rid of any columns with no data for this stim\n",
    "    # (no point doing this on the emotion level b/c all emotions are sampled at the same time w/in a session)\n",
    "    prunedStimGroup = stimGroup.dropna(how = \"all\", axis = \"columns\")\n",
    "    emotionGrouped = prunedStimGroup.groupby(\"Emotion\", sort = False)\n",
    "    for emotion, emotionGroup in emotionGrouped:\n",
    "        # Final cleanup of the data now that we only have one stim > emotion\n",
    "        data = emotionGroup.drop([\"StimID\", \"Emotion\"], axis = 1)\n",
    "        # Rename for emotionCF and create a matrix\n",
    "        data.set_axis([\"Subject\", \"Item\", \"Rating\"], axis = \"columns\", inplace = True)\n",
    "        matrix = emotioncf.data.create_sub_by_item_matrix(data)\n",
    "        for dilation in dilations:\n",
    "            try: # Don't stop when occasional 'cannot broadcast result' errors are hit\n",
    "                # Build/fit/run/store a cf object\n",
    "                cf = emotioncf.cf.NNMF_multiplicative(matrix)\n",
    "                cf.fit(dilate_ts_n_samples = dilation)\n",
    "                cf.predict()\n",
    "                collabs.setdefault(stim, {}).setdefault(emotion, {})[dilation] = cf\n",
    "                # If >0 ratings were predicted, save a plot\n",
    "                if cf.predicted_ratings.dropna().shape[0] > 0:\n",
    "                    cf.plot_predictions()[0].savefig(\"pr_figs/Stim%i_%s@%i.png\" % (stim, emotion, dilation))\n",
    "                    plt.clf()\n",
    "            except Exception as error:\n",
    "                print \"The following error occured for stim %i's emotion %s @ dilation %i: %s\" % (stim, emotion, dilation, error)"
   ]
  }
 ],
 "metadata": {
  "kernelspec": {
   "display_name": "Python 2",
   "language": "python",
   "name": "python2"
  },
  "language_info": {
   "codemirror_mode": {
    "name": "ipython",
    "version": 2
   },
   "file_extension": ".py",
   "mimetype": "text/x-python",
   "name": "python",
   "nbconvert_exporter": "python",
   "pygments_lexer": "ipython2",
   "version": "2.7.13"
  }
 },
 "nbformat": 4,
 "nbformat_minor": 2
}
