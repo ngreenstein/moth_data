{
 "cells": [
  {
   "cell_type": "markdown",
   "metadata": {},
   "source": [
    "# Pilot Ratings Analysis\n",
    "\n",
    "## Introduction\n",
    "\n",
    "This notebook aims to help analyze ratings data from the Moth pilot study, with the goal of selecting stimuli for inclusion in the primary study.\n",
    "\n",
    "## Setup\n",
    "\n",
    "1. Follow the directions from the [README](README.ipynb)\n",
    "2. Serialize the current ratings data to a CSV file:"
   ]
  },
  {
   "cell_type": "code",
   "execution_count": null,
   "metadata": {},
   "outputs": [],
   "source": [
    "! python -m pilot.serialize --ratings backups/pilot_ratings.csv"
   ]
  }
 ],
 "metadata": {
  "kernelspec": {
   "display_name": "Python 2",
   "language": "python",
   "name": "python2"
  },
  "language_info": {
   "codemirror_mode": {
    "name": "ipython",
    "version": 2
   },
   "file_extension": ".py",
   "mimetype": "text/x-python",
   "name": "python",
   "nbconvert_exporter": "python",
   "pygments_lexer": "ipython2",
   "version": "2.7.13"
  }
 },
 "nbformat": 4,
 "nbformat_minor": 2
}
