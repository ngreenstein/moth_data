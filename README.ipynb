{
 "cells": [
  {
   "cell_type": "markdown",
   "metadata": {},
   "source": [
    "# Setup\n",
    "\n",
    "Other notebooks in this folder assume that you have already taken the following steps.\n",
    "\n",
    "## Before First Use\n",
    "\n",
    "1. Install and configure the `moth_data` scripts on your local machine:\n",
    "    1. Clone https://github.com/ngreenstein/moth_data\n",
    "    1. `$ pip install mysql-connector-python`\n",
    "    1. Add database credentials to `md_utils.py`\n",
    "\n",
    "## Before Every Use\n",
    "\n",
    "1. Update your copy of the `moth_radio` MySQL database to the most recent version from the master:\n",
    "    1. Ensure that no data in need of preservation exist on your local copy of the database and not in the master copy\n",
    "    1. From the machine hosting the master database (currently the production server), run `$ python -m serialize backups/some_file.sql`\n",
    "    1. Copy `backups/some_file.sql` to your local machine\n",
    "    1. On your local machine, run `$ python -m replace some_file.sql`"
   ]
  }
 ],
 "metadata": {
  "kernelspec": {
   "display_name": "Python 2",
   "language": "python",
   "name": "python2"
  },
  "language_info": {
   "codemirror_mode": {
    "name": "ipython",
    "version": 2
   },
   "file_extension": ".py",
   "mimetype": "text/x-python",
   "name": "python",
   "nbconvert_exporter": "python",
   "pygments_lexer": "ipython2",
   "version": "2.7.13"
  }
 },
 "nbformat": 4,
 "nbformat_minor": 2
}
